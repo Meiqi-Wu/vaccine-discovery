{
  "nbformat": 4,
  "nbformat_minor": 0,
  "metadata": {
    "kernelspec": {
      "display_name": "Python 3",
      "language": "python",
      "name": "python3"
    },
    "language_info": {
      "codemirror_mode": {
        "name": "ipython",
        "version": 3
      },
      "file_extension": ".py",
      "mimetype": "text/x-python",
      "name": "python",
      "nbconvert_exporter": "python",
      "pygments_lexer": "ipython3",
      "version": "3.7.3"
    },
    "colab": {
      "name": "model_baseline.ipynb",
      "provenance": []
    }
  },
  "cells": [
    {
      "cell_type": "code",
      "metadata": {
        "colab": {
          "base_uri": "https://localhost:8080/"
        },
        "id": "o7RCSMBrl1Iy",
        "outputId": "18bb4a8e-3962-444e-f89e-050ab0327c5b"
      },
      "source": [
        "import numpy as np\n",
        "import pandas as pd\n",
        "from sklearn.model_selection import train_test_split, StratifiedKFold\n",
        "from sklearn.preprocessing import StandardScaler\n",
        "from sklearn.metrics import log_loss, precision_score, accuracy_score, recall_score, f1_score\n",
        "from sklearn.model_selection import GridSearchCV\n",
        "from sklearn.linear_model import LogisticRegression\n",
        "from sklearn.ensemble import RandomForestClassifier\n",
        "from xgboost import XGBClassifier\n",
        "import matplotlib.pyplot as plt\n",
        "\n",
        "import warnings\n",
        "warnings.filterwarnings('ignore')\n",
        "%load_ext autoreload\n",
        "%autoreload 2\n",
        "\n",
        "data_dir = './var/'\n",
        "SEED = 123"
      ],
      "execution_count": 45,
      "outputs": [
        {
          "output_type": "stream",
          "text": [
            "The autoreload extension is already loaded. To reload it, use:\n",
            "  %reload_ext autoreload\n"
          ],
          "name": "stdout"
        }
      ]
    },
    {
      "cell_type": "markdown",
      "metadata": {
        "id": "_nUbqQoxl1I2"
      },
      "source": [
        "## Load the dataset"
      ]
    },
    {
      "cell_type": "markdown",
      "metadata": {
        "id": "9C7lgLhnl1I3"
      },
      "source": [
        ""
      ]
    },
    {
      "cell_type": "code",
      "metadata": {
        "colab": {
          "base_uri": "https://localhost:8080/",
          "height": 224
        },
        "id": "W0M7lmB_nSP1",
        "outputId": "1ff54656-dafa-4422-ea9a-77d1c4945718"
      },
      "source": [
        "df_bcell = pd.read_csv('/input_bcell.csv')\n",
        "df_sars = pd.read_csv('/input_sars.csv')\n",
        "df = pd.concat([df_bcell, df_sars], ignore_index=True)\n",
        "df.head()\n",
        "df_covid = pd.read_csv('/input_covid.csv')\n",
        "df_covid.head()"
      ],
      "execution_count": 49,
      "outputs": [
        {
          "output_type": "execute_result",
          "data": {
            "text/html": [
              "<div>\n",
              "<style scoped>\n",
              "    .dataframe tbody tr th:only-of-type {\n",
              "        vertical-align: middle;\n",
              "    }\n",
              "\n",
              "    .dataframe tbody tr th {\n",
              "        vertical-align: top;\n",
              "    }\n",
              "\n",
              "    .dataframe thead th {\n",
              "        text-align: right;\n",
              "    }\n",
              "</style>\n",
              "<table border=\"1\" class=\"dataframe\">\n",
              "  <thead>\n",
              "    <tr style=\"text-align: right;\">\n",
              "      <th></th>\n",
              "      <th>parent_protein_id</th>\n",
              "      <th>protein_seq</th>\n",
              "      <th>start_position</th>\n",
              "      <th>end_position</th>\n",
              "      <th>peptide_seq</th>\n",
              "      <th>chou_fasman</th>\n",
              "      <th>emini</th>\n",
              "      <th>kolaskar_tongaonkar</th>\n",
              "      <th>parker</th>\n",
              "      <th>isoelectric_point</th>\n",
              "      <th>aromaticity</th>\n",
              "      <th>hydrophobicity</th>\n",
              "      <th>stability</th>\n",
              "    </tr>\n",
              "  </thead>\n",
              "  <tbody>\n",
              "    <tr>\n",
              "      <th>0</th>\n",
              "      <td>6VYB_A</td>\n",
              "      <td>MGILPSPGMPALLSLVSLLSVLLMGCVAETGTQCVNLTTRTQLPPA...</td>\n",
              "      <td>1</td>\n",
              "      <td>5</td>\n",
              "      <td>MGILP</td>\n",
              "      <td>0.948</td>\n",
              "      <td>0.280</td>\n",
              "      <td>1.033</td>\n",
              "      <td>-2.72</td>\n",
              "      <td>6.03595</td>\n",
              "      <td>0.10929</td>\n",
              "      <td>-0.138642</td>\n",
              "      <td>31.377603</td>\n",
              "    </tr>\n",
              "    <tr>\n",
              "      <th>1</th>\n",
              "      <td>6VYB_A</td>\n",
              "      <td>MGILPSPGMPALLSLVSLLSVLLMGCVAETGTQCVNLTTRTQLPPA...</td>\n",
              "      <td>2</td>\n",
              "      <td>6</td>\n",
              "      <td>GILPS</td>\n",
              "      <td>1.114</td>\n",
              "      <td>0.379</td>\n",
              "      <td>1.070</td>\n",
              "      <td>-0.58</td>\n",
              "      <td>6.03595</td>\n",
              "      <td>0.10929</td>\n",
              "      <td>-0.138642</td>\n",
              "      <td>31.377603</td>\n",
              "    </tr>\n",
              "    <tr>\n",
              "      <th>2</th>\n",
              "      <td>6VYB_A</td>\n",
              "      <td>MGILPSPGMPALLSLVSLLSVLLMGCVAETGTQCVNLTTRTQLPPA...</td>\n",
              "      <td>3</td>\n",
              "      <td>7</td>\n",
              "      <td>ILPSP</td>\n",
              "      <td>1.106</td>\n",
              "      <td>0.592</td>\n",
              "      <td>1.108</td>\n",
              "      <td>-1.30</td>\n",
              "      <td>6.03595</td>\n",
              "      <td>0.10929</td>\n",
              "      <td>-0.138642</td>\n",
              "      <td>31.377603</td>\n",
              "    </tr>\n",
              "    <tr>\n",
              "      <th>3</th>\n",
              "      <td>6VYB_A</td>\n",
              "      <td>MGILPSPGMPALLSLVSLLSVLLMGCVAETGTQCVNLTTRTQLPPA...</td>\n",
              "      <td>4</td>\n",
              "      <td>8</td>\n",
              "      <td>LPSPG</td>\n",
              "      <td>1.324</td>\n",
              "      <td>0.836</td>\n",
              "      <td>1.053</td>\n",
              "      <td>1.44</td>\n",
              "      <td>6.03595</td>\n",
              "      <td>0.10929</td>\n",
              "      <td>-0.138642</td>\n",
              "      <td>31.377603</td>\n",
              "    </tr>\n",
              "    <tr>\n",
              "      <th>4</th>\n",
              "      <td>6VYB_A</td>\n",
              "      <td>MGILPSPGMPALLSLVSLLSVLLMGCVAETGTQCVNLTTRTQLPPA...</td>\n",
              "      <td>5</td>\n",
              "      <td>9</td>\n",
              "      <td>PSPGM</td>\n",
              "      <td>1.326</td>\n",
              "      <td>1.004</td>\n",
              "      <td>0.968</td>\n",
              "      <td>2.44</td>\n",
              "      <td>6.03595</td>\n",
              "      <td>0.10929</td>\n",
              "      <td>-0.138642</td>\n",
              "      <td>31.377603</td>\n",
              "    </tr>\n",
              "  </tbody>\n",
              "</table>\n",
              "</div>"
            ],
            "text/plain": [
              "  parent_protein_id  ...  stability\n",
              "0            6VYB_A  ...  31.377603\n",
              "1            6VYB_A  ...  31.377603\n",
              "2            6VYB_A  ...  31.377603\n",
              "3            6VYB_A  ...  31.377603\n",
              "4            6VYB_A  ...  31.377603\n",
              "\n",
              "[5 rows x 13 columns]"
            ]
          },
          "metadata": {
            "tags": []
          },
          "execution_count": 49
        }
      ]
    },
    {
      "cell_type": "markdown",
      "metadata": {
        "id": "42kTU_vdl1I5"
      },
      "source": [
        "## Preprocessing"
      ]
    },
    {
      "cell_type": "code",
      "metadata": {
        "colab": {
          "base_uri": "https://localhost:8080/"
        },
        "id": "iUpNARaul1I6",
        "outputId": "e99c52de-3eba-4b94-b787-89bcd5a7a06a"
      },
      "source": [
        "# feature columns\n",
        "feature_cols = [col for col in df.columns if col not in ['parent_protein_id', 'protein_seq', 'peptide_seq','target']]\n",
        "print(feature_cols)\n",
        "\n",
        "# split df into training set and test set\n",
        "X_train, X_test, y_train, y_test = train_test_split(df[feature_cols], df.target, test_size=0.2, random_state=SEED)\n",
        "y_train = y_train.to_frame()\n",
        "y_test = y_test.to_frame()\n",
        "\n",
        "# normalization\n",
        "scaler = StandardScaler()\n",
        "X_train = pd.DataFrame(scaler.fit_transform(X_train), index=X_train.index, columns=feature_cols)\n",
        "X_test = pd.DataFrame(scaler.transform(X_test), index=X_test.index, columns=feature_cols)"
      ],
      "execution_count": 51,
      "outputs": [
        {
          "output_type": "stream",
          "text": [
            "['start_position', 'end_position', 'chou_fasman', 'emini', 'kolaskar_tongaonkar', 'parker', 'isoelectric_point', 'aromaticity', 'hydrophobicity', 'stability']\n"
          ],
          "name": "stdout"
        }
      ]
    },
    {
      "cell_type": "code",
      "metadata": {
        "colab": {
          "base_uri": "https://localhost:8080/"
        },
        "id": "mz1qGtAyl1I7",
        "outputId": "707d8b4b-05f1-4a71-f933-6107764b4857"
      },
      "source": [
        "print(df[df.target==0].shape[0])\n",
        "print(df[df.target==1].shape[0])"
      ],
      "execution_count": 17,
      "outputs": [
        {
          "output_type": "stream",
          "text": [
            "10865\n",
            "4042\n"
          ],
          "name": "stdout"
        }
      ]
    },
    {
      "cell_type": "code",
      "metadata": {
        "id": "MVcL5Ap6l1I8"
      },
      "source": [
        "def train_model(model, X_train=X_train, y_train=y_train, nfold=7):\n",
        "    skf = StratifiedKFold(n_splits = nfold, shuffle=True, random_state = SEED)\n",
        "\n",
        "    train_loss, val_loss, test_loss = [], [],[]\n",
        "    train_accu, val_accu, test_accu = [], [], []\n",
        "    train_prec, val_prec, test_prec = [], [], []\n",
        "    train_recall, val_recall, test_recall = [], [], []\n",
        "    train_f1, val_f1, test_f1 = [], [], []\n",
        "    for train_index, val_index in skf.split(X_train, y_train):\n",
        "        train, val = X_train.iloc[train_index], X_train.iloc[val_index]\n",
        "        train_targets, val_targets = y_train.iloc[train_index], y_train.iloc[val_index]\n",
        "\n",
        "        model.fit(train, train_targets)\n",
        "\n",
        "        train_pred_proba = model.predict_proba(train)\n",
        "        val_pred_proba = model.predict_proba(val)\n",
        "        test_pred_proba = model.predict_proba(X_test)\n",
        "        # neg log loss\n",
        "        train_loss.append(log_loss(train_targets, train_pred_proba))\n",
        "        val_loss.append(log_loss(val_targets, val_pred_proba))\n",
        "        test_loss.append(log_loss(y_test, test_pred_proba))\n",
        "\n",
        "        train_pred = model.predict(train)\n",
        "        val_pred = model.predict(val)\n",
        "        test_pred = model.predict(X_test)\n",
        "        # accuracy\n",
        "        train_accu.append(accuracy_score(train_targets, train_pred))\n",
        "        val_accu.append(accuracy_score(val_targets, val_pred))\n",
        "        test_accu.append(accuracy_score(y_test, test_pred))\n",
        "        # precision\n",
        "        train_prec.append(precision_score(train_targets, train_pred))\n",
        "        val_prec.append(precision_score(val_targets, val_pred))\n",
        "        test_prec.append(precision_score(y_test, test_pred))\n",
        "        # recall\n",
        "        train_recall.append(recall_score(train_targets, train_pred))\n",
        "        val_recall.append(recall_score(val_targets, val_pred))\n",
        "        test_recall.append(recall_score(y_test, test_pred))\n",
        "        # f1 score\n",
        "        train_f1.append(f1_score(train_targets, train_pred))\n",
        "        val_f1.append(f1_score(val_targets, val_pred))\n",
        "        test_f1.append(f1_score(y_test, test_pred))\n",
        "\n",
        "\n",
        "    print('Training loss : ', np.average(np.array(train_loss)))\n",
        "    print('Validation loss : ', np.average(np.array(val_loss)))\n",
        "    print('Test loss : ', np.average(np.array(test_loss)))\n",
        "\n",
        "    train_accu_avg = np.average(np.array(train_accu))\n",
        "    train_prec_avg = np.average(np.array(train_prec))\n",
        "    train_recall_avg = np.average(np.array(train_recall))\n",
        "    train_f1_avg = np.average(np.array(train_f1))\n",
        "    print('Train accuracy {:5f}, precision {:5f}, recall {:5f}, f1 {:5f} '.format(train_accu_avg, train_prec_avg, train_recall_avg, train_f1_avg))\n",
        "\n",
        "    val_accu_avg = np.average(np.array(val_accu))\n",
        "    val_prec_avg = np.average(np.array(val_prec))\n",
        "    val_recall_avg = np.average(np.array(val_recall))\n",
        "    val_f1_avg = np.average(np.array(val_f1))\n",
        "    print('Valid accuracy {:5f}, precision {:5f}, recall {:5f}, f1 {:5f} '.format(val_accu_avg, val_prec_avg, val_recall_avg, val_f1_avg))\n",
        "\n",
        "    test_accu_avg = np.average(np.array(test_accu))\n",
        "    test_prec_avg = np.average(np.array(test_prec))\n",
        "    test_recall_avg = np.average(np.array(test_recall))\n",
        "    test_f1_avg = np.average(np.array(test_f1))\n",
        "    print('Test  accuracy {:5f}, precision {:5f}, recall {:5f}, f1 {:5f} '.format(test_accu_avg, test_prec_avg, test_recall_avg, test_f1_avg))"
      ],
      "execution_count": 52,
      "outputs": []
    },
    {
      "cell_type": "markdown",
      "metadata": {
        "id": "EE8c-QTOl1I9"
      },
      "source": [
        "## Modeling: Logistic Regression  "
      ]
    },
    {
      "cell_type": "code",
      "metadata": {
        "colab": {
          "base_uri": "https://localhost:8080/"
        },
        "id": "DL01_P4Ol1I9",
        "outputId": "7fe4401c-2fa2-44cd-ad22-c5eda2ef0f3f"
      },
      "source": [
        "# model with default parameters\n",
        "model = LogisticRegression(penalty='l2',random_state=SEED)\n",
        "train_model(model)"
      ],
      "execution_count": 9,
      "outputs": [
        {
          "output_type": "stream",
          "text": [
            "Training loss :  0.5548469361260543\n",
            "Validation loss :  0.5557078990563984\n",
            "Test loss :  0.5604272467321073\n",
            "Train accuracy 0.734815, precision 0.598210, recall 0.060550, f1 0.109939 \n",
            "Valid accuracy 0.734927, precision 0.602372, recall 0.061378, f1 0.111090 \n",
            "Test  accuracy 0.731101, precision 0.577338, recall 0.064951, f1 0.116734 \n"
          ],
          "name": "stdout"
        }
      ]
    },
    {
      "cell_type": "code",
      "metadata": {
        "id": "9ZJ2h2RnLwX3",
        "outputId": "9c7c2839-9d92-48aa-aa35-ebb8485bf084",
        "colab": {
          "base_uri": "https://localhost:8080/"
        }
      },
      "source": [
        "model = LogisticRegression(penalty='l1',solver='liblinear',random_state=SEED)\n",
        "train_model(model)"
      ],
      "execution_count": 23,
      "outputs": [
        {
          "output_type": "stream",
          "text": [
            "Training loss :  0.5547379541357689\n",
            "Validation loss :  0.5556589013715297\n",
            "Test loss :  0.5603998389150148\n",
            "Train accuracy 0.734703, precision 0.596421, recall 0.060136, f1 0.109229 \n",
            "Valid accuracy 0.734591, precision 0.596476, recall 0.060449, f1 0.109483 \n",
            "Test  accuracy 0.730909, precision 0.574128, recall 0.064601, f1 0.116102 \n"
          ],
          "name": "stdout"
        }
      ]
    },
    {
      "cell_type": "code",
      "metadata": {
        "id": "i91hydGMKNb6",
        "outputId": "d232ee54-acf9-4be1-de81-ea958c2617dc",
        "colab": {
          "base_uri": "https://localhost:8080/"
        }
      },
      "source": [
        "# model with default parameters\n",
        "model = LogisticRegression(penalty='none',random_state=SEED)\n",
        "train_model(model)"
      ],
      "execution_count": 13,
      "outputs": [
        {
          "output_type": "stream",
          "text": [
            "Training loss :  0.5540715655035748\n",
            "Validation loss :  0.5549880765593196\n",
            "Test loss :  0.5607791729914318\n",
            "Train accuracy 0.733725, precision 0.573059, recall 0.061996, f1 0.111864 \n",
            "Valid accuracy 0.733837, precision 0.575461, recall 0.062619, f1 0.112689 \n",
            "Test  accuracy 0.728610, precision 0.534691, recall 0.065826, f1 0.117179 \n"
          ],
          "name": "stdout"
        }
      ]
    },
    {
      "cell_type": "code",
      "metadata": {
        "colab": {
          "base_uri": "https://localhost:8080/"
        },
        "id": "W9jRN6rRl1I9",
        "outputId": "ed340c03-3a74-488b-b9bd-29b79b23c0f6"
      },
      "source": [
        "# GridSearch \n",
        "model = LogisticRegression(random_state = SEED)\n",
        "params = {'C':[.1,50, 100,500, 10000, 50000]}\n",
        "gcv = GridSearchCV(model, params, scoring='neg_log_loss')\n",
        "gcv.fit(X_train, y_train)\n",
        "print('Best parameter: ', gcv.best_params_)"
      ],
      "execution_count": 37,
      "outputs": [
        {
          "output_type": "stream",
          "text": [
            "Best parameter:  {'C': 500}\n"
          ],
          "name": "stdout"
        }
      ]
    },
    {
      "cell_type": "code",
      "metadata": {
        "colab": {
          "base_uri": "https://localhost:8080/"
        },
        "id": "RH9U1Otrl1I-",
        "outputId": "448c5454-5261-4a5d-84eb-8fb88ff7feb6"
      },
      "source": [
        "model = LogisticRegression(C=10000, random_state=SEED)\n",
        "train_model(model)"
      ],
      "execution_count": 39,
      "outputs": [
        {
          "output_type": "stream",
          "text": [
            "Training loss :  0.5540715667987695\n",
            "Validation loss :  0.5549879254335282\n",
            "Test loss :  0.5607774946545552\n",
            "Train accuracy 0.733725, precision 0.573059, recall 0.061996, f1 0.111864 \n",
            "Valid accuracy 0.733837, precision 0.575461, recall 0.062619, f1 0.112689 \n",
            "Test  accuracy 0.728610, precision 0.534691, recall 0.065826, f1 0.117179 \n"
          ],
          "name": "stdout"
        }
      ]
    },
    {
      "cell_type": "code",
      "metadata": {
        "colab": {
          "base_uri": "https://localhost:8080/"
        },
        "id": "cwkG9Woml1I-",
        "outputId": "6c7d5ce6-2990-4c18-f2d7-724d172befbe"
      },
      "source": [
        "model.coef_"
      ],
      "execution_count": 40,
      "outputs": [
        {
          "output_type": "execute_result",
          "data": {
            "text/plain": [
              "array([[-1.01027646e+01,  9.83659839e+00,  2.33283485e-01,\n",
              "         1.57182659e-01, -7.56391730e-02, -1.53962006e-01,\n",
              "        -3.32155423e-01,  4.71614134e-03,  2.73361720e-01,\n",
              "         2.31431244e-01]])"
            ]
          },
          "metadata": {
            "tags": []
          },
          "execution_count": 40
        }
      ]
    },
    {
      "cell_type": "code",
      "metadata": {
        "colab": {
          "base_uri": "https://localhost:8080/"
        },
        "id": "BOUCAowZl1I_",
        "outputId": "a0d1f09c-4d8c-4ea3-cce1-6feb6c1ed5d9"
      },
      "source": [
        "# feature importance\n",
        "model = LogisticRegression(C=10000, random_state=SEED)\n",
        "model.fit(X_train, y_train)\n",
        "importances = [abs(model.coef_[0][i]) for i in range(len(feature_cols))]\n",
        "_sum = sum(importances)\n",
        "importances = [x/_sum for x in importances]\n",
        "feature_import = [(feature_cols[i], importances[i]) for i in range(len(feature_cols))]\n",
        "feature_import = sorted(feature_import, key=lambda x:x[1])\n",
        "print(feature_import)"
      ],
      "execution_count": 41,
      "outputs": [
        {
          "output_type": "stream",
          "text": [
            "[('aromaticity', 0.0005464078574760544), ('kolaskar_tongaonkar', 0.0037869931633599434), ('emini', 0.006772017051978455), ('parker', 0.006924428604195673), ('stability', 0.010668019264121533), ('chou_fasman', 0.010853350271145592), ('hydrophobicity', 0.013172879850985102), ('isoelectric_point', 0.0160934038060767), ('end_position', 0.4591603991370059), ('start_position', 0.4720221009936554)]\n"
          ],
          "name": "stdout"
        }
      ]
    },
    {
      "cell_type": "code",
      "metadata": {
        "colab": {
          "base_uri": "https://localhost:8080/",
          "height": 392
        },
        "id": "TkqfCE4rl1I_",
        "outputId": "cf3b4b9b-f0a8-44ff-f8cd-35b4a2b042ad"
      },
      "source": [
        "plt.figure(figsize=(8, 6))\n",
        "plt.barh([x[0] for x in feature_import], [x[1] for x in feature_import])\n",
        "plt.title('Feature Importance by Logistic Regression',Fontsize=15)\n",
        "plt.grid(axis='y')"
      ],
      "execution_count": 42,
      "outputs": [
        {
          "output_type": "display_data",
          "data": {
            "image/png": "[encoded data removed]",
            "text/plain": [
              "<Figure size 576x432 with 1 Axes>"
            ]
          },
          "metadata": {
            "tags": [],
            "needs_background": "light"
          }
        }
      ]
    },
    {
      "cell_type": "markdown",
      "metadata": {
        "id": "AuVxdzEhl1JH"
      },
      "source": [
        "## Modeling: Random Forest "
      ]
    },
    {
      "cell_type": "code",
      "metadata": {
        "colab": {
          "base_uri": "https://localhost:8080/"
        },
        "id": "e_Qn__Val1JH",
        "outputId": "628bebc6-be3d-4b6e-c5aa-01174a0b0894"
      },
      "source": [
        "# model with default parameters\n",
        "RandomForestClassifier(random_state = SEED)\n",
        "train_model(model)"
      ],
      "execution_count": 43,
      "outputs": [
        {
          "output_type": "stream",
          "text": [
            "Training loss :  0.5540715667987695\n",
            "Validation loss :  0.5549879254335282\n",
            "Test loss :  0.5607774946545552\n",
            "Train accuracy 0.733725, precision 0.573059, recall 0.061996, f1 0.111864 \n",
            "Valid accuracy 0.733837, precision 0.575461, recall 0.062619, f1 0.112689 \n",
            "Test  accuracy 0.728610, precision 0.534691, recall 0.065826, f1 0.117179 \n"
          ],
          "name": "stdout"
        }
      ]
    },
    {
      "cell_type": "code",
      "metadata": {
        "colab": {
          "base_uri": "https://localhost:8080/"
        },
        "id": "vPaHN4pMl1JH",
        "outputId": "7be94577-33a1-482c-82e3-dd0d54273ea7"
      },
      "source": [
        "# Gridsearch \n",
        "model = RandomForestClassifier(random_state = SEED)\n",
        "params = {'max_depth':[15, 16, 17, 18, 19]}\n",
        "gcv = GridSearchCV(model, params, scoring='neg_log_loss')\n",
        "gcv.fit(X_train, y_train)\n",
        "print('Best parameter: ', gcv.best_params_)"
      ],
      "execution_count": 44,
      "outputs": [
        {
          "output_type": "stream",
          "text": [
            "Best parameter:  {'max_depth': 18}\n"
          ],
          "name": "stdout"
        }
      ]
    },
    {
      "cell_type": "code",
      "metadata": {
        "colab": {
          "base_uri": "https://localhost:8080/"
        },
        "id": "XBy9YmDil1JI",
        "outputId": "cfc3c35f-8682-443f-9fe7-0fce8fbe36cf"
      },
      "source": [
        "model = RandomForestClassifier(max_depth=18, random_state=SEED)\n",
        "train_model(model)"
      ],
      "execution_count": 71,
      "outputs": [
        {
          "output_type": "stream",
          "text": [
            "Training loss :  0.12070216386551061\n",
            "Validation loss :  0.3511769583896269\n",
            "Test loss :  0.36988480299029\n",
            "Train accuracy 0.988679, precision 0.999838, recall 0.958307, f1 0.978632 \n",
            "Valid accuracy 0.852075, precision 0.776575, recall 0.636695, f1 0.699243 \n",
            "Test  accuracy 0.849717, precision 0.782149, recall 0.624825, f1 0.694678 \n"
          ],
          "name": "stdout"
        }
      ]
    },
    {
      "cell_type": "code",
      "metadata": {
        "colab": {
          "base_uri": "https://localhost:8080/"
        },
        "id": "FkYkaeaEl1JI",
        "outputId": "57bbcbab-7c38-4a64-9559-d166fb0b0fbd"
      },
      "source": [
        "# Feature importance\n",
        "model = RandomForestClassifier(max_depth=18, random_state=SEED)\n",
        "model.fit(X_train, y_train)\n",
        "importances = model.feature_importances_\n",
        "feature_import = [(feature_cols[i], abs(importances[i])) for i in range(len(feature_cols))]\n",
        "feature_import = sorted(feature_import, key=lambda x:x[1])\n",
        "print(feature_import)"
      ],
      "execution_count": 68,
      "outputs": [
        {
          "output_type": "stream",
          "text": [
            "[('kolaskar_tongaonkar', 0.07819469199507226), ('parker', 0.08452496013044604), ('chou_fasman', 0.08499849652011747), ('emini', 0.08902621982085838), ('end_position', 0.09830357886604645), ('start_position', 0.09831542821166599), ('stability', 0.10392867868782123), ('aromaticity', 0.10837875779918013), ('isoelectric_point', 0.11692126073893003), ('hydrophobicity', 0.13740792722986211)]\n"
          ],
          "name": "stdout"
        }
      ]
    },
    {
      "cell_type": "code",
      "metadata": {
        "colab": {
          "base_uri": "https://localhost:8080/",
          "height": 392
        },
        "id": "xLF_4wXel1JJ",
        "outputId": "e5252044-0d17-4a29-cd17-ee16bde56837"
      },
      "source": [
        "plt.figure(figsize=(8, 6))\n",
        "plt.barh([x[0] for x in feature_import], [x[1] for x in feature_import])\n",
        "plt.title('Feature Importance by Random Forest Classifier',Fontsize=15)\n",
        "plt.grid(axis='y')"
      ],
      "execution_count": 69,
      "outputs": [
        {
          "output_type": "display_data",
          "data": {
            "image/png": "[encoded data removed]",
            "text/plain": [
              "<Figure size 576x432 with 1 Axes>"
            ]
          },
          "metadata": {
            "tags": [],
            "needs_background": "light"
          }
        }
      ]
    },
    {
      "cell_type": "code",
      "metadata": {
        "id": "DX7U3zdDHH2u"
      },
      "source": [
        "#model.predict(df_covid)\n",
        "feature_cols = [col for col in df_covid.columns if col not in ['parent_protein_id', 'protein_seq', 'peptide_seq','target']]\n",
        "df_covid= df_covid[feature_cols]\n",
        "# split df into training set and test set\n",
        "##df_covid = df_covid.to_frame()\n",
        "\n",
        "# normalization\n",
        "scaler = StandardScaler()\n",
        "#df_covid = pd.DataFrame(scaler.fit_transform(df_covid), index=df_covid.index, columns=feature_cols)\n",
        "#X_test = pd.DataFrame(scaler.transform(X_test), index=X_test.index, columns=feature_cols)"
      ],
      "execution_count": 76,
      "outputs": []
    },
    {
      "cell_type": "code",
      "metadata": {
        "id": "lW53H0WBy4hz",
        "outputId": "19d3ab10-fc23-4e16-9556-4ed4d81fbbd5",
        "colab": {
          "base_uri": "https://localhost:8080/"
        }
      },
      "source": [
        "predictions = model.predict(df_covid)\n",
        "\n",
        "target = (predictions == 1).sum()\n",
        "nontarget = (predictions == 0).sum()\n",
        "df_covid.shape"
      ],
      "execution_count": 124,
      "outputs": [
        {
          "output_type": "execute_result",
          "data": {
            "text/plain": [
              "(20312, 10)"
            ]
          },
          "metadata": {
            "tags": []
          },
          "execution_count": 124
        }
      ]
    },
    {
      "cell_type": "code",
      "metadata": {
        "id": "8o-ZcN48zTom",
        "outputId": "ae0608ce-0405-4a7f-f80f-8d97cb3c3a56",
        "colab": {
          "base_uri": "https://localhost:8080/",
          "height": 312
        }
      },
      "source": [
        "import matplotlib.pyplot as plt\n",
        "vals=[target,nontarget]\n",
        "inds=range(len(vals))\n",
        "labels=['1','0']\n",
        "\n",
        "fig,ax = plt.subplots()\n",
        "rects = ax.bar(inds, vals)\n",
        "ax.set_xticks([ind for ind in inds])\n",
        "ax.set_xticklabels(labels)\n",
        "\n",
        "plt.annotate(str(target),xy=(0,0), ha='center', va='bottom')\n",
        "plt.annotate(str(nontarget),xy=(1,0), ha='center', va='bottom')\n",
        "plt.xlabel(\"Target Label Output\")\n",
        "plt.ylabel(\"Count of Label\")\n",
        "plt.title(\"Outputed Labels for Random Forest\")"
      ],
      "execution_count": 123,
      "outputs": [
        {
          "output_type": "execute_result",
          "data": {
            "text/plain": [
              "Text(0.5, 1.0, 'Outputed Labels for Random Forest')"
            ]
          },
          "metadata": {
            "tags": []
          },
          "execution_count": 123
        },
        {
          "output_type": "display_data",
          "data": {
            "image/png": "[encoded data removed]",
            "text/plain": [
              "<Figure size 432x288 with 1 Axes>"
            ]
          },
          "metadata": {
            "tags": [],
            "needs_background": "light"
          }
        }
      ]
    },
    {
      "cell_type": "markdown",
      "metadata": {
        "id": "anz4ztxql1JK"
      },
      "source": [
        "## Gradient Boosting"
      ]
    },
    {
      "cell_type": "code",
      "metadata": {
        "colab": {
          "base_uri": "https://localhost:8080/"
        },
        "id": "Fqa8EREcl1JK",
        "outputId": "cf60ec5d-242c-4766-8209-9769e0c37151"
      },
      "source": [
        "# Gridsearch \n",
        "model = XGBClassifier(random_state = SEED)\n",
        "params = {'max_depth':[4,5,6,7,8,]}\n",
        "gcv = GridSearchCV(model, params, scoring='neg_log_loss')\n",
        "gcv.fit(X_train, y_train)\n",
        "print('Best parameter: ', gcv.best_params_)"
      ],
      "execution_count": 67,
      "outputs": [
        {
          "output_type": "stream",
          "text": [
            "Best parameter:  {'max_depth': 8}\n"
          ],
          "name": "stdout"
        }
      ]
    },
    {
      "cell_type": "code",
      "metadata": {
        "colab": {
          "base_uri": "https://localhost:8080/"
        },
        "id": "_uRejay4l1JL",
        "outputId": "7d50355f-ad5a-40e6-ffbc-06442b2aeac7"
      },
      "source": [
        "model = XGBClassifier(max_depth=6, random_state=SEED)\n",
        "train_model(model)"
      ],
      "execution_count": 125,
      "outputs": [
        {
          "output_type": "stream",
          "text": [
            "Training loss :  0.2980598460060227\n",
            "Validation loss :  0.3793879985673036\n",
            "Test loss :  0.39412517043833917\n",
            "Train accuracy 0.886513, precision 0.877685, recall 0.674520, f1 0.762773 \n",
            "Valid accuracy 0.835472, precision 0.769907, recall 0.558591, f1 0.647145 \n",
            "Test  accuracy 0.828255, precision 0.766362, recall 0.535714, f1 0.630596 \n"
          ],
          "name": "stdout"
        }
      ]
    },
    {
      "cell_type": "code",
      "metadata": {
        "id": "EEG_B3KZOD3V",
        "outputId": "212892d6-992b-4258-d835-e10c2d48f727",
        "colab": {
          "base_uri": "https://localhost:8080/"
        }
      },
      "source": [
        "predictions = model.predict(df_covid)\n",
        "\n",
        "target = (predictions == 1).sum()\n",
        "nontarget = (predictions == 0).sum()\n"
      ],
      "execution_count": 127,
      "outputs": [
        {
          "output_type": "execute_result",
          "data": {
            "text/plain": [
              "(20312,)"
            ]
          },
          "metadata": {
            "tags": []
          },
          "execution_count": 127
        }
      ]
    },
    {
      "cell_type": "code",
      "metadata": {
        "id": "3S_IzuLyOXOA",
        "outputId": "cb2613e1-b6ef-4253-e908-6e8d871c2671",
        "colab": {
          "base_uri": "https://localhost:8080/",
          "height": 312
        }
      },
      "source": [
        "import matplotlib.pyplot as plt\n",
        "vals=[target,nontarget]\n",
        "inds=range(len(vals))\n",
        "labels=['1','0']\n",
        "\n",
        "fig,ax = plt.subplots()\n",
        "rects = ax.bar(inds, vals)\n",
        "ax.set_xticks([ind for ind in inds])\n",
        "ax.set_xticklabels(labels)\n",
        "\n",
        "plt.annotate(str(target),xy=(0,0), ha='center', va='bottom')\n",
        "plt.annotate(str(nontarget),xy=(1,0), ha='center', va='bottom')\n",
        "plt.xlabel(\"Target Label Output\")\n",
        "plt.ylabel(\"Count of Label\")\n",
        "plt.title(\"Outputed Labels for Gradient Boosting Model\")"
      ],
      "execution_count": 128,
      "outputs": [
        {
          "output_type": "execute_result",
          "data": {
            "text/plain": [
              "Text(0.5, 1.0, 'Outputed Labels for Gradient Boosting Model')"
            ]
          },
          "metadata": {
            "tags": []
          },
          "execution_count": 128
        },
        {
          "output_type": "display_data",
          "data": {
            "image/png": "[encoded data removed]",
            "text/plain": [
              "<Figure size 432x288 with 1 Axes>"
            ]
          },
          "metadata": {
            "tags": [],
            "needs_background": "light"
          }
        }
      ]
    },
    {
      "cell_type": "code",
      "metadata": {
        "colab": {
          "base_uri": "https://localhost:8080/"
        },
        "id": "bBIFVDidl1JL",
        "outputId": "83031d31-2b38-4b62-e268-a681bcbab295"
      },
      "source": [
        "# feature importance\n",
        "\n",
        "model.fit(X_train, y_train)\n",
        "importances = model.feature_importances_\n",
        "feature_import = [(feature_cols[i], abs(importances[i])) for i in range(len(feature_cols))]\n",
        "feature_import = sorted(feature_import, key=lambda x:x[1])\n",
        "print(feature_import)"
      ],
      "execution_count": 61,
      "outputs": [
        {
          "output_type": "stream",
          "text": [
            "[('kolaskar_tongaonkar', 0.035858802), ('parker', 0.043975797), ('chou_fasman', 0.050685994), ('start_position', 0.051220547), ('emini', 0.062352564), ('end_position', 0.077438936), ('aromaticity', 0.13466804), ('stability', 0.1369486), ('isoelectric_point', 0.17412984), ('hydrophobicity', 0.23272087)]\n"
          ],
          "name": "stdout"
        }
      ]
    },
    {
      "cell_type": "code",
      "metadata": {
        "id": "5cQcMTvQHI2g",
        "outputId": "d97ae8d8-1c70-4920-f408-5d29425077ea",
        "colab": {
          "base_uri": "https://localhost:8080/",
          "height": 392
        }
      },
      "source": [
        "plt.figure(figsize=(8, 6))\n",
        "plt.barh([x[0] for x in feature_import], [x[1] for x in feature_import])\n",
        "plt.title('Feature Importance by Gradient Boost',Fontsize=15)\n",
        "plt.grid(axis='y')"
      ],
      "execution_count": 63,
      "outputs": [
        {
          "output_type": "display_data",
          "data": {
            "image/png": "[encoded data removed]",
            "text/plain": [
              "<Figure size 576x432 with 1 Axes>"
            ]
          },
          "metadata": {
            "tags": [],
            "needs_background": "light"
          }
        }
      ]
    },
    {
      "cell_type": "code",
      "metadata": {
        "id": "j7OCboSLwNCA",
        "outputId": "e3816ac5-6d17-44f4-8fec-d79f62d9bcdd",
        "colab": {
          "base_uri": "https://localhost:8080/",
          "height": 546
        }
      },
      "source": [
        "fig, ax = plt.subplots(nrows=1, ncols=2, figsize=(20,6))\n",
        "sns.distplot(df_target['chou_fasman'],ax=ax[0],label='target=1')\n",
        "sns.distplot(df_nontarget['chou_fasman'],ax=ax[0],label='target=0')\n",
        "ax[0].legend()\n",
        "ax[0].set_title('chou fasman distribution')\n",
        "pep_bychou = df.groupby('target')['chou_fasman'].mean().reset_index()\n",
        "sns.barplot(x = pep_bychou['target'],y=pep_bychou['chou_fasman'])\n",
        "ax[1].set_ylim(0.95,1.02)\n",
        "ax[1].set_title('average chou fasman by target')"
      ],
      "execution_count": 70,
      "outputs": [
        {
          "output_type": "error",
          "ename": "NameError",
          "evalue": "ignored",
          "traceback": [
            "\u001b[0;31m---------------------------------------------------------------------------\u001b[0m",
            "\u001b[0;31mNameError\u001b[0m                                 Traceback (most recent call last)",
            "\u001b[0;32m<ipython-input-70-8bf1023b09f2>\u001b[0m in \u001b[0;36m<module>\u001b[0;34m()\u001b[0m\n\u001b[1;32m      1\u001b[0m \u001b[0mfig\u001b[0m\u001b[0;34m,\u001b[0m \u001b[0max\u001b[0m \u001b[0;34m=\u001b[0m \u001b[0mplt\u001b[0m\u001b[0;34m.\u001b[0m\u001b[0msubplots\u001b[0m\u001b[0;34m(\u001b[0m\u001b[0mnrows\u001b[0m\u001b[0;34m=\u001b[0m\u001b[0;36m1\u001b[0m\u001b[0;34m,\u001b[0m \u001b[0mncols\u001b[0m\u001b[0;34m=\u001b[0m\u001b[0;36m2\u001b[0m\u001b[0;34m,\u001b[0m \u001b[0mfigsize\u001b[0m\u001b[0;34m=\u001b[0m\u001b[0;34m(\u001b[0m\u001b[0;36m20\u001b[0m\u001b[0;34m,\u001b[0m\u001b[0;36m6\u001b[0m\u001b[0;34m)\u001b[0m\u001b[0;34m)\u001b[0m\u001b[0;34m\u001b[0m\u001b[0;34m\u001b[0m\u001b[0m\n\u001b[0;32m----> 2\u001b[0;31m \u001b[0msns\u001b[0m\u001b[0;34m.\u001b[0m\u001b[0mdistplot\u001b[0m\u001b[0;34m(\u001b[0m\u001b[0mdf_target\u001b[0m\u001b[0;34m[\u001b[0m\u001b[0;34m'chou_fasman'\u001b[0m\u001b[0;34m]\u001b[0m\u001b[0;34m,\u001b[0m\u001b[0max\u001b[0m\u001b[0;34m=\u001b[0m\u001b[0max\u001b[0m\u001b[0;34m[\u001b[0m\u001b[0;36m0\u001b[0m\u001b[0;34m]\u001b[0m\u001b[0;34m,\u001b[0m\u001b[0mlabel\u001b[0m\u001b[0;34m=\u001b[0m\u001b[0;34m'target=1'\u001b[0m\u001b[0;34m)\u001b[0m\u001b[0;34m\u001b[0m\u001b[0;34m\u001b[0m\u001b[0m\n\u001b[0m\u001b[1;32m      3\u001b[0m \u001b[0msns\u001b[0m\u001b[0;34m.\u001b[0m\u001b[0mdistplot\u001b[0m\u001b[0;34m(\u001b[0m\u001b[0mdf_nontarget\u001b[0m\u001b[0;34m[\u001b[0m\u001b[0;34m'chou_fasman'\u001b[0m\u001b[0;34m]\u001b[0m\u001b[0;34m,\u001b[0m\u001b[0max\u001b[0m\u001b[0;34m=\u001b[0m\u001b[0max\u001b[0m\u001b[0;34m[\u001b[0m\u001b[0;36m0\u001b[0m\u001b[0;34m]\u001b[0m\u001b[0;34m,\u001b[0m\u001b[0mlabel\u001b[0m\u001b[0;34m=\u001b[0m\u001b[0;34m'target=0'\u001b[0m\u001b[0;34m)\u001b[0m\u001b[0;34m\u001b[0m\u001b[0;34m\u001b[0m\u001b[0m\n\u001b[1;32m      4\u001b[0m \u001b[0max\u001b[0m\u001b[0;34m[\u001b[0m\u001b[0;36m0\u001b[0m\u001b[0;34m]\u001b[0m\u001b[0;34m.\u001b[0m\u001b[0mlegend\u001b[0m\u001b[0;34m(\u001b[0m\u001b[0;34m)\u001b[0m\u001b[0;34m\u001b[0m\u001b[0;34m\u001b[0m\u001b[0m\n\u001b[1;32m      5\u001b[0m \u001b[0max\u001b[0m\u001b[0;34m[\u001b[0m\u001b[0;36m0\u001b[0m\u001b[0;34m]\u001b[0m\u001b[0;34m.\u001b[0m\u001b[0mset_title\u001b[0m\u001b[0;34m(\u001b[0m\u001b[0;34m'chou fasman distribution'\u001b[0m\u001b[0;34m)\u001b[0m\u001b[0;34m\u001b[0m\u001b[0;34m\u001b[0m\u001b[0m\n",
            "\u001b[0;31mNameError\u001b[0m: name 'sns' is not defined"
          ]
        },
        {
          "output_type": "display_data",
          "data": {
            "image/png": "[encoded data removed]",
            "text/plain": [
              "<Figure size 1440x432 with 2 Axes>"
            ]
          },
          "metadata": {
            "tags": [],
            "needs_background": "light"
          }
        }
      ]
    }
  ]
}