{
 "cells": [
  {
   "cell_type": "code",
   "execution_count": 2,
   "metadata": {},
   "outputs": [],
   "source": [
    "import numpy as np\n",
    "import pandas as pd\n",
    "from sklearn.model_selection import train_test_split, StratifiedKFold\n",
    "from sklearn.preprocessing import StandardScaler\n",
    "from sklearn.metrics import log_loss, precision_score, accuracy_score, recall_score, f1_score, confusion_matrix\n",
    "from sklearn.model_selection import GridSearchCV\n",
    "from sklearn.linear_model import LogisticRegression\n",
    "from sklearn.ensemble import RandomForestClassifier\n",
    "from xgboost import XGBClassifier\n",
    "import matplotlib.pyplot as plt\n",
    "\n",
    "import warnings\n",
    "warnings.filterwarnings('ignore')\n",
    "%load_ext autoreload\n",
    "%autoreload 2\n",
    "\n",
    "data_dir = './DATA/'\n",
    "SEED = 123"
   ]
  },
  {
   "cell_type": "markdown",
   "metadata": {},
   "source": [
    "## Load the dataset"
   ]
  },
  {
   "cell_type": "code",
   "execution_count": 3,
   "metadata": {},
   "outputs": [
    {
     "data": {
      "text/html": [
       "<div>\n",
       "<style scoped>\n",
       "    .dataframe tbody tr th:only-of-type {\n",
       "        vertical-align: middle;\n",
       "    }\n",
       "\n",
       "    .dataframe tbody tr th {\n",
       "        vertical-align: top;\n",
       "    }\n",
       "\n",
       "    .dataframe thead th {\n",
       "        text-align: right;\n",
       "    }\n",
       "</style>\n",
       "<table border=\"1\" class=\"dataframe\">\n",
       "  <thead>\n",
       "    <tr style=\"text-align: right;\">\n",
       "      <th></th>\n",
       "      <th>parent_protein_id</th>\n",
       "      <th>protein_seq</th>\n",
       "      <th>start_position</th>\n",
       "      <th>end_position</th>\n",
       "      <th>peptide_seq</th>\n",
       "      <th>chou_fasman</th>\n",
       "      <th>emini</th>\n",
       "      <th>kolaskar_tongaonkar</th>\n",
       "      <th>parker</th>\n",
       "      <th>isoelectric_point</th>\n",
       "      <th>aromaticity</th>\n",
       "      <th>hydrophobicity</th>\n",
       "      <th>stability</th>\n",
       "      <th>target</th>\n",
       "    </tr>\n",
       "  </thead>\n",
       "  <tbody>\n",
       "    <tr>\n",
       "      <th>0</th>\n",
       "      <td>A2T3T0</td>\n",
       "      <td>MDVLYSLSKTLKDARDKIVEGTLYSNVSDLIQQFNQMIITMNGNEF...</td>\n",
       "      <td>161</td>\n",
       "      <td>165</td>\n",
       "      <td>SASFT</td>\n",
       "      <td>1.016</td>\n",
       "      <td>0.703</td>\n",
       "      <td>1.018</td>\n",
       "      <td>2.22</td>\n",
       "      <td>5.810364</td>\n",
       "      <td>0.103275</td>\n",
       "      <td>-0.143829</td>\n",
       "      <td>40.273300</td>\n",
       "      <td>1</td>\n",
       "    </tr>\n",
       "    <tr>\n",
       "      <th>1</th>\n",
       "      <td>F0V2I4</td>\n",
       "      <td>MTIHKVAINGFGRIGRLLFRNLLSSQGVQVVAVNDVVDIKVLTHLL...</td>\n",
       "      <td>251</td>\n",
       "      <td>255</td>\n",
       "      <td>LCLKI</td>\n",
       "      <td>0.770</td>\n",
       "      <td>0.179</td>\n",
       "      <td>1.199</td>\n",
       "      <td>-3.86</td>\n",
       "      <td>6.210876</td>\n",
       "      <td>0.065476</td>\n",
       "      <td>-0.036905</td>\n",
       "      <td>24.998512</td>\n",
       "      <td>1</td>\n",
       "    </tr>\n",
       "    <tr>\n",
       "      <th>2</th>\n",
       "      <td>O75508</td>\n",
       "      <td>MVATCLQVVGFVTSFVGWIGVIVTTSTNDWVVTCGYTIPTCRKLDE...</td>\n",
       "      <td>145</td>\n",
       "      <td>149</td>\n",
       "      <td>AHRET</td>\n",
       "      <td>0.852</td>\n",
       "      <td>3.427</td>\n",
       "      <td>0.960</td>\n",
       "      <td>4.28</td>\n",
       "      <td>8.223938</td>\n",
       "      <td>0.091787</td>\n",
       "      <td>0.879227</td>\n",
       "      <td>27.863333</td>\n",
       "      <td>1</td>\n",
       "    </tr>\n",
       "    <tr>\n",
       "      <th>3</th>\n",
       "      <td>O84462</td>\n",
       "      <td>MTNSISGYQPTVTTSTSSTTSASGASGSLGASSVSTTANATVTQTA...</td>\n",
       "      <td>152</td>\n",
       "      <td>156</td>\n",
       "      <td>SNYDD</td>\n",
       "      <td>1.410</td>\n",
       "      <td>2.548</td>\n",
       "      <td>0.936</td>\n",
       "      <td>6.32</td>\n",
       "      <td>4.237976</td>\n",
       "      <td>0.044776</td>\n",
       "      <td>-0.521393</td>\n",
       "      <td>30.765373</td>\n",
       "      <td>1</td>\n",
       "    </tr>\n",
       "    <tr>\n",
       "      <th>4</th>\n",
       "      <td>P00918</td>\n",
       "      <td>MSHHWGYGKHNGPEHWHKDFPIAKGERQSPVDIDTHTAKYDPSLKP...</td>\n",
       "      <td>85</td>\n",
       "      <td>89</td>\n",
       "      <td>DGTYR</td>\n",
       "      <td>1.214</td>\n",
       "      <td>1.908</td>\n",
       "      <td>0.937</td>\n",
       "      <td>4.64</td>\n",
       "      <td>6.867493</td>\n",
       "      <td>0.103846</td>\n",
       "      <td>-0.578846</td>\n",
       "      <td>21.684615</td>\n",
       "      <td>1</td>\n",
       "    </tr>\n",
       "  </tbody>\n",
       "</table>\n",
       "</div>"
      ],
      "text/plain": [
       "  parent_protein_id                                        protein_seq  \\\n",
       "0            A2T3T0  MDVLYSLSKTLKDARDKIVEGTLYSNVSDLIQQFNQMIITMNGNEF...   \n",
       "1            F0V2I4  MTIHKVAINGFGRIGRLLFRNLLSSQGVQVVAVNDVVDIKVLTHLL...   \n",
       "2            O75508  MVATCLQVVGFVTSFVGWIGVIVTTSTNDWVVTCGYTIPTCRKLDE...   \n",
       "3            O84462  MTNSISGYQPTVTTSTSSTTSASGASGSLGASSVSTTANATVTQTA...   \n",
       "4            P00918  MSHHWGYGKHNGPEHWHKDFPIAKGERQSPVDIDTHTAKYDPSLKP...   \n",
       "\n",
       "   start_position  end_position peptide_seq  chou_fasman  emini  \\\n",
       "0             161           165       SASFT        1.016  0.703   \n",
       "1             251           255       LCLKI        0.770  0.179   \n",
       "2             145           149       AHRET        0.852  3.427   \n",
       "3             152           156       SNYDD        1.410  2.548   \n",
       "4              85            89       DGTYR        1.214  1.908   \n",
       "\n",
       "   kolaskar_tongaonkar  parker  isoelectric_point  aromaticity  \\\n",
       "0                1.018    2.22           5.810364     0.103275   \n",
       "1                1.199   -3.86           6.210876     0.065476   \n",
       "2                0.960    4.28           8.223938     0.091787   \n",
       "3                0.936    6.32           4.237976     0.044776   \n",
       "4                0.937    4.64           6.867493     0.103846   \n",
       "\n",
       "   hydrophobicity  stability  target  \n",
       "0       -0.143829  40.273300       1  \n",
       "1       -0.036905  24.998512       1  \n",
       "2        0.879227  27.863333       1  \n",
       "3       -0.521393  30.765373       1  \n",
       "4       -0.578846  21.684615       1  "
      ]
     },
     "execution_count": 3,
     "metadata": {},
     "output_type": "execute_result"
    }
   ],
   "source": [
    "df_bcell = pd.read_csv(data_dir+'input_bcell.csv')\n",
    "df_sars = pd.read_csv(data_dir+'input_sars.csv')\n",
    "df = pd.concat([df_bcell, df_sars], ignore_index=True)\n",
    "df.head()"
   ]
  },
  {
   "cell_type": "markdown",
   "metadata": {},
   "source": [
    "## Preprocessing"
   ]
  },
  {
   "cell_type": "code",
   "execution_count": 4,
   "metadata": {},
   "outputs": [
    {
     "name": "stdout",
     "output_type": "stream",
     "text": [
      "['start_position', 'end_position', 'chou_fasman', 'emini', 'kolaskar_tongaonkar', 'parker', 'isoelectric_point', 'aromaticity', 'hydrophobicity', 'stability']\n"
     ]
    }
   ],
   "source": [
    "# feature columns\n",
    "feature_cols = [col for col in df.columns if col not in ['parent_protein_id', 'protein_seq', 'peptide_seq', 'target']]\n",
    "print(feature_cols)\n",
    "\n",
    "# split df into training set and test set\n",
    "X_train, X_test, y_train, y_test = train_test_split(df[feature_cols], df.target, test_size=0.2, random_state=SEED)\n",
    "y_train = y_train.to_frame()\n",
    "y_test = y_test.to_frame()\n",
    "\n",
    "# normalization\n",
    "scaler = StandardScaler()\n",
    "X_train = pd.DataFrame(scaler.fit_transform(X_train), index=X_train.index, columns=feature_cols)\n",
    "X_test = pd.DataFrame(scaler.transform(X_test), index=X_test.index, columns=feature_cols)"
   ]
  },
  {
   "cell_type": "code",
   "execution_count": 4,
   "metadata": {},
   "outputs": [
    {
     "name": "stdout",
     "output_type": "stream",
     "text": [
      "10865\n",
      "4042\n"
     ]
    }
   ],
   "source": [
    "print(df[df.target==0].shape[0])\n",
    "print(df[df.target==1].shape[0])"
   ]
  },
  {
   "cell_type": "code",
   "execution_count": 7,
   "metadata": {},
   "outputs": [],
   "source": [
    "def train_model(model, X_train=X_train, y_train=y_train, nfold=7):\n",
    "    skf = StratifiedKFold(n_splits = nfold, shuffle=True, random_state = SEED)\n",
    "\n",
    "    train_loss, val_loss, test_loss = [], [],[]\n",
    "    train_accu, val_accu, test_accu = [], [], []\n",
    "    train_prec, val_prec, test_prec = [], [], []\n",
    "    train_recall, val_recall, test_recall = [], [], []\n",
    "    train_f1, val_f1, test_f1 = [], [], []\n",
    "    test_confusion = np.zeros((2,2))\n",
    "    for train_index, val_index in skf.split(X_train, y_train):\n",
    "        train, val = X_train.iloc[train_index], X_train.iloc[val_index]\n",
    "        train_targets, val_targets = y_train.iloc[train_index], y_train.iloc[val_index]\n",
    "\n",
    "        model.fit(train, train_targets)\n",
    "\n",
    "        train_pred_proba = model.predict_proba(train)\n",
    "        val_pred_proba = model.predict_proba(val)\n",
    "        test_pred_proba = model.predict_proba(X_test)\n",
    "        # neg log loss\n",
    "        train_loss.append(log_loss(train_targets, train_pred_proba))\n",
    "        val_loss.append(log_loss(val_targets, val_pred_proba))\n",
    "        test_loss.append(log_loss(y_test, test_pred_proba))\n",
    "\n",
    "        train_pred = model.predict(train)\n",
    "        val_pred = model.predict(val)\n",
    "        test_pred = model.predict(X_test)\n",
    "        # accuracy\n",
    "        train_accu.append(accuracy_score(train_targets, train_pred))\n",
    "        val_accu.append(accuracy_score(val_targets, val_pred))\n",
    "        test_accu.append(accuracy_score(y_test, test_pred))\n",
    "        # precision\n",
    "        train_prec.append(precision_score(train_targets, train_pred))\n",
    "        val_prec.append(precision_score(val_targets, val_pred))\n",
    "        test_prec.append(precision_score(y_test, test_pred))\n",
    "        # recall\n",
    "        train_recall.append(recall_score(train_targets, train_pred))\n",
    "        val_recall.append(recall_score(val_targets, val_pred))\n",
    "        test_recall.append(recall_score(y_test, test_pred))\n",
    "        # f1 score\n",
    "        train_f1.append(f1_score(train_targets, train_pred))\n",
    "        val_f1.append(f1_score(val_targets, val_pred))\n",
    "        test_f1.append(f1_score(y_test, test_pred))\n",
    "        # confusion matrix\n",
    "        test_confusion += confusion_matrix(y_test, test_pred)\n",
    "\n",
    "\n",
    "    print('Training loss : ', np.average(np.array(train_loss)))\n",
    "    print('Validation loss : ', np.average(np.array(val_loss)))\n",
    "    print('Test loss : ', np.average(np.array(test_loss)))\n",
    "\n",
    "    train_accu_avg = np.average(np.array(train_accu))\n",
    "    train_prec_avg = np.average(np.array(train_prec))\n",
    "    train_recall_avg = np.average(np.array(train_recall))\n",
    "    train_f1_avg = np.average(np.array(train_f1))\n",
    "    print('Train accuracy {:5f}, precision {:5f}, recall {:5f}, f1 {:5f} '.format(train_accu_avg, train_prec_avg, train_recall_avg, train_f1_avg))\n",
    "\n",
    "    val_accu_avg = np.average(np.array(val_accu))\n",
    "    val_prec_avg = np.average(np.array(val_prec))\n",
    "    val_recall_avg = np.average(np.array(val_recall))\n",
    "    val_f1_avg = np.average(np.array(val_f1))\n",
    "    print('Valid accuracy {:5f}, precision {:5f}, recall {:5f}, f1 {:5f} '.format(val_accu_avg, val_prec_avg, val_recall_avg, val_f1_avg))\n",
    "\n",
    "    test_accu_avg = np.average(np.array(test_accu))\n",
    "    test_prec_avg = np.average(np.array(test_prec))\n",
    "    test_recall_avg = np.average(np.array(test_recall))\n",
    "    test_f1_avg = np.average(np.array(test_f1))\n",
    "    print('Test  accuracy {:5f}, precision {:5f}, recall {:5f}, f1 {:5f} '.format(test_accu_avg, test_prec_avg, test_recall_avg, test_f1_avg))\n",
    "    \n",
    "    test_confusion /= nfold\n",
    "    print('Test confusion matrix: ')\n",
    "    print(test_confusion)"
   ]
  },
  {
   "cell_type": "markdown",
   "metadata": {},
   "source": [
    "## Modeling: Logistic Regression  "
   ]
  },
  {
   "cell_type": "code",
   "execution_count": 8,
   "metadata": {},
   "outputs": [
    {
     "name": "stdout",
     "output_type": "stream",
     "text": [
      "Training loss :  0.5548469361260543\n",
      "Validation loss :  0.5557078990563984\n",
      "Test loss :  0.5604272467321063\n",
      "Train accuracy 0.734815, precision 0.598210, recall 0.060550, f1 0.109939 \n",
      "Valid accuracy 0.734927, precision 0.602372, recall 0.061378, f1 0.111090 \n",
      "Test  accuracy 0.731101, precision 0.577338, recall 0.064951, f1 0.116734 \n",
      "Test confusion matrix: \n",
      "[[2127.14285714   38.85714286]\n",
      " [ 763.           53.        ]]\n"
     ]
    }
   ],
   "source": [
    "# model with default parameters\n",
    "model = LogisticRegression(random_state=SEED)\n",
    "train_model(model)"
   ]
  },
  {
   "cell_type": "code",
   "execution_count": 41,
   "metadata": {},
   "outputs": [
    {
     "name": "stdout",
     "output_type": "stream",
     "text": [
      "Best parameter:  {'C': 10000}\n"
     ]
    }
   ],
   "source": [
    "# GridSearch \n",
    "model = LogisticRegression(random_state = SEED)\n",
    "params = {'C':[50, 100, 10000, 50000]}\n",
    "gcv = GridSearchCV(model, params, scoring='neg_log_loss')\n",
    "gcv.fit(X_train, y_train)\n",
    "print('Best parameter: ', gcv.best_params_)"
   ]
  },
  {
   "cell_type": "code",
   "execution_count": 9,
   "metadata": {},
   "outputs": [
    {
     "name": "stdout",
     "output_type": "stream",
     "text": [
      "Training loss :  0.5540715667987696\n",
      "Validation loss :  0.5549879254335282\n",
      "Test loss :  0.5607774946545552\n",
      "Train accuracy 0.733725, precision 0.573059, recall 0.061996, f1 0.111864 \n",
      "Valid accuracy 0.733837, precision 0.575461, recall 0.062619, f1 0.112689 \n",
      "Test  accuracy 0.728610, precision 0.534691, recall 0.065826, f1 0.117179 \n",
      "Test confusion matrix: \n",
      "[[2119.           47.        ]\n",
      " [ 762.28571429   53.71428571]]\n"
     ]
    }
   ],
   "source": [
    "model = LogisticRegression(C=10000, random_state=SEED)\n",
    "train_model(model)"
   ]
  },
  {
   "cell_type": "code",
   "execution_count": 12,
   "metadata": {},
   "outputs": [
    {
     "data": {
      "text/plain": [
       "array([[-10.21702185,   9.93862749,   0.23492315,   0.14658179,\n",
       "         -0.0819703 ,  -0.14988078,  -0.34834525,   0.01182712,\n",
       "          0.28512987,   0.23091162]])"
      ]
     },
     "execution_count": 12,
     "metadata": {},
     "output_type": "execute_result"
    }
   ],
   "source": [
    "model.coef_"
   ]
  },
  {
   "cell_type": "code",
   "execution_count": 36,
   "metadata": {},
   "outputs": [
    {
     "name": "stdout",
     "output_type": "stream",
     "text": [
      "[('aromaticity', 0.0005464078574760759), ('kolaskar_tongaonkar', 0.003786993163359799), ('emini', 0.00677201705197829), ('parker', 0.006924428604195447), ('stability', 0.010668019264121259), ('chou_fasman', 0.010853350271145298), ('hydrophobicity', 0.013172879850984753), ('isoelectric_point', 0.016093403806076326), ('end_position', 0.4591603991370068), ('start_position', 0.47202210099365594)]\n"
     ]
    }
   ],
   "source": [
    "# feature importance\n",
    "model = LogisticRegression(C=10000, random_state=SEED)\n",
    "model.fit(X_train, y_train)\n",
    "importances = [abs(model.coef_[0][i]) for i in range(len(feature_cols))]\n",
    "_sum = sum(importances)\n",
    "importances = [x/_sum for x in importances]\n",
    "feature_import = [(feature_cols[i], importances[i]) for i in range(len(feature_cols))]\n",
    "feature_import = sorted(feature_import, key=lambda x:x[1])\n",
    "print(feature_import)"
   ]
  },
  {
   "cell_type": "code",
   "execution_count": 37,
   "metadata": {},
   "outputs": [
    {
     "data": {
      "image/png": "[encoded data removed]",
      "text/plain": [
       "<Figure size 576x432 with 1 Axes>"
      ]
     },
     "metadata": {
      "needs_background": "light"
     },
     "output_type": "display_data"
    }
   ],
   "source": [
    "plt.figure(figsize=(8, 6))\n",
    "plt.barh([x[0] for x in feature_import], [x[1] for x in feature_import])\n",
    "plt.title('Feature Importance by Logistic Regression',Fontsize=15)\n",
    "plt.grid(axis='y')"
   ]
  },
  {
   "cell_type": "markdown",
   "metadata": {},
   "source": [
    "## Modeling: Random Forest "
   ]
  },
  {
   "cell_type": "code",
   "execution_count": 12,
   "metadata": {},
   "outputs": [
    {
     "name": "stdout",
     "output_type": "stream",
     "text": [
      "Training loss :  0.09107740258027942\n",
      "Validation loss :  0.38464511593070577\n",
      "Test loss :  0.42114338766069903\n",
      "Train accuracy 0.999874, precision 0.999948, recall 0.999587, f1 0.999767 \n",
      "Valid accuracy 0.849895, precision 0.764077, recall 0.644759, f1 0.698885 \n",
      "Test  accuracy 0.851107, precision 0.779503, recall 0.635679, f1 0.700221 \n",
      "Test confusion matrix: \n",
      "[[2019.28571429  146.71428571]\n",
      " [ 297.28571429  518.71428571]]\n"
     ]
    }
   ],
   "source": [
    "# model with default parameters\n",
    "model = RandomForestClassifier(random_state = SEED)\n",
    "train_model(model)"
   ]
  },
  {
   "cell_type": "code",
   "execution_count": 14,
   "metadata": {},
   "outputs": [
    {
     "name": "stdout",
     "output_type": "stream",
     "text": [
      "Best parameter:  {'max_depth': 18}\n"
     ]
    }
   ],
   "source": [
    "# Gridsearch \n",
    "model = RandomForestClassifier(random_state = SEED)\n",
    "params = {'max_depth':[17, 18, 19,20]}\n",
    "gcv = GridSearchCV(model, params, scoring='neg_log_loss')\n",
    "gcv.fit(X_train, y_train)\n",
    "print('Best parameter: ', gcv.best_params_)"
   ]
  },
  {
   "cell_type": "code",
   "execution_count": 11,
   "metadata": {},
   "outputs": [
    {
     "name": "stdout",
     "output_type": "stream",
     "text": [
      "Training loss :  0.12070216386551061\n",
      "Validation loss :  0.3511769583896269\n",
      "Test loss :  0.36988480299029\n",
      "Train accuracy 0.988679, precision 0.999838, recall 0.958307, f1 0.978632 \n",
      "Valid accuracy 0.852075, precision 0.776575, recall 0.636695, f1 0.699243 \n",
      "Test  accuracy 0.849717, precision 0.782149, recall 0.624825, f1 0.694678 \n",
      "Test confusion matrix: \n",
      "[[2024.          142.        ]\n",
      " [ 306.14285714  509.85714286]]\n"
     ]
    }
   ],
   "source": [
    "model = RandomForestClassifier(max_depth=18, random_state=SEED)\n",
    "train_model(model)"
   ]
  },
  {
   "cell_type": "code",
   "execution_count": 30,
   "metadata": {},
   "outputs": [
    {
     "name": "stdout",
     "output_type": "stream",
     "text": [
      "[('kolaskar_tongaonkar', 0.07819469199507226), ('parker', 0.08452496013044604), ('chou_fasman', 0.08499849652011747), ('emini', 0.08902621982085838), ('end_position', 0.09830357886604645), ('start_position', 0.09831542821166599), ('stability', 0.10392867868782123), ('aromaticity', 0.10837875779918013), ('isoelectric_point', 0.11692126073893003), ('hydrophobicity', 0.13740792722986211)]\n"
     ]
    }
   ],
   "source": [
    "# Feature importance\n",
    "model = RandomForestClassifier(max_depth=18, random_state=SEED)\n",
    "model.fit(X_train, y_train)\n",
    "importances = model.feature_importances_\n",
    "feature_import = [(feature_cols[i], abs(importances[i])) for i in range(len(feature_cols))]\n",
    "feature_import = sorted(feature_import, key=lambda x:x[1])\n",
    "print(feature_import)"
   ]
  },
  {
   "cell_type": "code",
   "execution_count": 31,
   "metadata": {},
   "outputs": [
    {
     "data": {
      "image/png": "[encoded data removed]",
      "text/plain": [
       "<Figure size 576x432 with 1 Axes>"
      ]
     },
     "metadata": {
      "needs_background": "light"
     },
     "output_type": "display_data"
    }
   ],
   "source": [
    "plt.figure(figsize=(8, 6))\n",
    "plt.barh([x[0] for x in feature_import], [x[1] for x in feature_import])\n",
    "plt.title('Feature Importance by Random Forest Classifier',Fontsize=15)\n",
    "plt.grid(axis='y')"
   ]
  },
  {
   "cell_type": "markdown",
   "metadata": {},
   "source": [
    "## Gradient Boosting"
   ]
  },
  {
   "cell_type": "code",
   "execution_count": null,
   "metadata": {},
   "outputs": [],
   "source": [
    "# model with default parameters\n",
    "model = XGBClassifier(random_state=SEED)\n",
    "train_model(model)"
   ]
  },
  {
   "cell_type": "code",
   "execution_count": 39,
   "metadata": {},
   "outputs": [
    {
     "name": "stdout",
     "output_type": "stream",
     "text": [
      "Best parameter:  {'max_depth': 6}\n"
     ]
    }
   ],
   "source": [
    "# Gridsearch \n",
    "model = XGBClassifier(random_state = SEED)\n",
    "params = {'max_depth':[4,5,6,7,8]}\n",
    "gcv = GridSearchCV(model, params, scoring='neg_log_loss')\n",
    "gcv.fit(X_train, y_train)\n",
    "print('Best parameter: ', gcv.best_params_)"
   ]
  },
  {
   "cell_type": "code",
   "execution_count": 15,
   "metadata": {},
   "outputs": [
    {
     "name": "stdout",
     "output_type": "stream",
     "text": [
      "Training loss :  0.17777053012456934\n",
      "Validation loss :  0.3743147875577157\n",
      "Test loss :  0.38656826640974096\n",
      "Train accuracy 0.949965, precision 0.956532, recall 0.853844, f1 0.902272 \n",
      "Valid accuracy 0.838826, precision 0.751070, recall 0.605397, f1 0.669872 \n",
      "Test  accuracy 0.836878, precision 0.759870, recall 0.590511, f1 0.664550 \n",
      "Test confusion matrix: \n",
      "[[2013.71428571  152.28571429]\n",
      " [ 334.14285714  481.85714286]]\n"
     ]
    }
   ],
   "source": [
    "model = XGBClassifier(max_depth=6, random_state=SEED)\n",
    "train_model(model)"
   ]
  },
  {
   "cell_type": "code",
   "execution_count": null,
   "metadata": {},
   "outputs": [],
   "source": []
  }
 ],
 "metadata": {
  "kernelspec": {
   "display_name": "Python 3",
   "language": "python",
   "name": "python3"
  },
  "language_info": {
   "codemirror_mode": {
    "name": "ipython",
    "version": 3
   },
   "file_extension": ".py",
   "mimetype": "text/x-python",
   "name": "python",
   "nbconvert_exporter": "python",
   "pygments_lexer": "ipython3",
   "version": "3.7.3"
  }
 },
 "nbformat": 4,
 "nbformat_minor": 4
}
