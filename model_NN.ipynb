{
 "cells": [
  {
   "cell_type": "code",
   "execution_count": 30,
   "metadata": {},
   "outputs": [
    {
     "name": "stdout",
     "output_type": "stream",
     "text": [
      "The autoreload extension is already loaded. To reload it, use:\n",
      "  %reload_ext autoreload\n"
     ]
    }
   ],
   "source": [
    "import numpy as np\n",
    "import pandas as pd\n",
    "from sklearn.model_selection import train_test_split, StratifiedKFold\n",
    "from sklearn.preprocessing import StandardScaler\n",
    "from sklearn.metrics import log_loss, precision_score, accuracy_score, recall_score, f1_score\n",
    "from vaccine.model import DenseNet, Model\n",
    "import torch \n",
    "import warnings\n",
    "warnings.filterwarnings('ignore')\n",
    "%load_ext autoreload\n",
    "%autoreload 2\n",
    "\n",
    "data_dir = './DATA/'\n",
    "SEED = 123"
   ]
  },
  {
   "cell_type": "markdown",
   "metadata": {},
   "source": [
    "## Load the data set"
   ]
  },
  {
   "cell_type": "code",
   "execution_count": 14,
   "metadata": {},
   "outputs": [
    {
     "data": {
      "text/html": [
       "<div>\n",
       "<style scoped>\n",
       "    .dataframe tbody tr th:only-of-type {\n",
       "        vertical-align: middle;\n",
       "    }\n",
       "\n",
       "    .dataframe tbody tr th {\n",
       "        vertical-align: top;\n",
       "    }\n",
       "\n",
       "    .dataframe thead th {\n",
       "        text-align: right;\n",
       "    }\n",
       "</style>\n",
       "<table border=\"1\" class=\"dataframe\">\n",
       "  <thead>\n",
       "    <tr style=\"text-align: right;\">\n",
       "      <th></th>\n",
       "      <th>parent_protein_id</th>\n",
       "      <th>protein_seq</th>\n",
       "      <th>start_position</th>\n",
       "      <th>end_position</th>\n",
       "      <th>peptide_seq</th>\n",
       "      <th>chou_fasman</th>\n",
       "      <th>emini</th>\n",
       "      <th>kolaskar_tongaonkar</th>\n",
       "      <th>parker</th>\n",
       "      <th>isoelectric_point</th>\n",
       "      <th>aromaticity</th>\n",
       "      <th>hydrophobicity</th>\n",
       "      <th>stability</th>\n",
       "      <th>target</th>\n",
       "    </tr>\n",
       "  </thead>\n",
       "  <tbody>\n",
       "    <tr>\n",
       "      <th>0</th>\n",
       "      <td>A2T3T0</td>\n",
       "      <td>MDVLYSLSKTLKDARDKIVEGTLYSNVSDLIQQFNQMIITMNGNEF...</td>\n",
       "      <td>161</td>\n",
       "      <td>165</td>\n",
       "      <td>SASFT</td>\n",
       "      <td>1.016</td>\n",
       "      <td>0.703</td>\n",
       "      <td>1.018</td>\n",
       "      <td>2.22</td>\n",
       "      <td>5.810364</td>\n",
       "      <td>0.103275</td>\n",
       "      <td>-0.143829</td>\n",
       "      <td>40.273300</td>\n",
       "      <td>1</td>\n",
       "    </tr>\n",
       "    <tr>\n",
       "      <th>1</th>\n",
       "      <td>F0V2I4</td>\n",
       "      <td>MTIHKVAINGFGRIGRLLFRNLLSSQGVQVVAVNDVVDIKVLTHLL...</td>\n",
       "      <td>251</td>\n",
       "      <td>255</td>\n",
       "      <td>LCLKI</td>\n",
       "      <td>0.770</td>\n",
       "      <td>0.179</td>\n",
       "      <td>1.199</td>\n",
       "      <td>-3.86</td>\n",
       "      <td>6.210876</td>\n",
       "      <td>0.065476</td>\n",
       "      <td>-0.036905</td>\n",
       "      <td>24.998512</td>\n",
       "      <td>1</td>\n",
       "    </tr>\n",
       "    <tr>\n",
       "      <th>2</th>\n",
       "      <td>O75508</td>\n",
       "      <td>MVATCLQVVGFVTSFVGWIGVIVTTSTNDWVVTCGYTIPTCRKLDE...</td>\n",
       "      <td>145</td>\n",
       "      <td>149</td>\n",
       "      <td>AHRET</td>\n",
       "      <td>0.852</td>\n",
       "      <td>3.427</td>\n",
       "      <td>0.960</td>\n",
       "      <td>4.28</td>\n",
       "      <td>8.223938</td>\n",
       "      <td>0.091787</td>\n",
       "      <td>0.879227</td>\n",
       "      <td>27.863333</td>\n",
       "      <td>1</td>\n",
       "    </tr>\n",
       "    <tr>\n",
       "      <th>3</th>\n",
       "      <td>O84462</td>\n",
       "      <td>MTNSISGYQPTVTTSTSSTTSASGASGSLGASSVSTTANATVTQTA...</td>\n",
       "      <td>152</td>\n",
       "      <td>156</td>\n",
       "      <td>SNYDD</td>\n",
       "      <td>1.410</td>\n",
       "      <td>2.548</td>\n",
       "      <td>0.936</td>\n",
       "      <td>6.32</td>\n",
       "      <td>4.237976</td>\n",
       "      <td>0.044776</td>\n",
       "      <td>-0.521393</td>\n",
       "      <td>30.765373</td>\n",
       "      <td>1</td>\n",
       "    </tr>\n",
       "    <tr>\n",
       "      <th>4</th>\n",
       "      <td>P00918</td>\n",
       "      <td>MSHHWGYGKHNGPEHWHKDFPIAKGERQSPVDIDTHTAKYDPSLKP...</td>\n",
       "      <td>85</td>\n",
       "      <td>89</td>\n",
       "      <td>DGTYR</td>\n",
       "      <td>1.214</td>\n",
       "      <td>1.908</td>\n",
       "      <td>0.937</td>\n",
       "      <td>4.64</td>\n",
       "      <td>6.867493</td>\n",
       "      <td>0.103846</td>\n",
       "      <td>-0.578846</td>\n",
       "      <td>21.684615</td>\n",
       "      <td>1</td>\n",
       "    </tr>\n",
       "  </tbody>\n",
       "</table>\n",
       "</div>"
      ],
      "text/plain": [
       "  parent_protein_id                                        protein_seq  \\\n",
       "0            A2T3T0  MDVLYSLSKTLKDARDKIVEGTLYSNVSDLIQQFNQMIITMNGNEF...   \n",
       "1            F0V2I4  MTIHKVAINGFGRIGRLLFRNLLSSQGVQVVAVNDVVDIKVLTHLL...   \n",
       "2            O75508  MVATCLQVVGFVTSFVGWIGVIVTTSTNDWVVTCGYTIPTCRKLDE...   \n",
       "3            O84462  MTNSISGYQPTVTTSTSSTTSASGASGSLGASSVSTTANATVTQTA...   \n",
       "4            P00918  MSHHWGYGKHNGPEHWHKDFPIAKGERQSPVDIDTHTAKYDPSLKP...   \n",
       "\n",
       "   start_position  end_position peptide_seq  chou_fasman  emini  \\\n",
       "0             161           165       SASFT        1.016  0.703   \n",
       "1             251           255       LCLKI        0.770  0.179   \n",
       "2             145           149       AHRET        0.852  3.427   \n",
       "3             152           156       SNYDD        1.410  2.548   \n",
       "4              85            89       DGTYR        1.214  1.908   \n",
       "\n",
       "   kolaskar_tongaonkar  parker  isoelectric_point  aromaticity  \\\n",
       "0                1.018    2.22           5.810364     0.103275   \n",
       "1                1.199   -3.86           6.210876     0.065476   \n",
       "2                0.960    4.28           8.223938     0.091787   \n",
       "3                0.936    6.32           4.237976     0.044776   \n",
       "4                0.937    4.64           6.867493     0.103846   \n",
       "\n",
       "   hydrophobicity  stability  target  \n",
       "0       -0.143829  40.273300       1  \n",
       "1       -0.036905  24.998512       1  \n",
       "2        0.879227  27.863333       1  \n",
       "3       -0.521393  30.765373       1  \n",
       "4       -0.578846  21.684615       1  "
      ]
     },
     "execution_count": 14,
     "metadata": {},
     "output_type": "execute_result"
    }
   ],
   "source": [
    "df_bcell = pd.read_csv(data_dir+'input_bcell.csv')\n",
    "df_sars = pd.read_csv(data_dir+'input_sars.csv')\n",
    "df = pd.concat([df_bcell, df_sars], ignore_index=True)\n",
    "df.head()"
   ]
  },
  {
   "cell_type": "markdown",
   "metadata": {},
   "source": [
    "## Preprocessing"
   ]
  },
  {
   "cell_type": "code",
   "execution_count": 15,
   "metadata": {},
   "outputs": [
    {
     "name": "stdout",
     "output_type": "stream",
     "text": [
      "['start_position', 'end_position', 'chou_fasman', 'emini', 'kolaskar_tongaonkar', 'parker', 'isoelectric_point', 'aromaticity', 'hydrophobicity', 'stability']\n"
     ]
    }
   ],
   "source": [
    "# feature columns\n",
    "feature_cols = [col for col in df.columns if col not in ['parent_protein_id', 'protein_seq', 'peptide_seq', 'target']]\n",
    "print(feature_cols)\n",
    "\n",
    "# split df into training set and test set\n",
    "X_train, X_test, y_train, y_test = train_test_split(df[feature_cols], df.target, test_size=0.2, random_state=SEED)\n",
    "y_train = y_train.to_frame()\n",
    "y_test = y_test.to_frame()\n",
    "\n",
    "# normalization\n",
    "scaler = StandardScaler()\n",
    "X_train = pd.DataFrame(scaler.fit_transform(X_train), index=X_train.index, columns=feature_cols)\n",
    "X_test = pd.DataFrame(scaler.transform(X_test), index=X_test.index, columns=feature_cols)"
   ]
  },
  {
   "cell_type": "code",
   "execution_count": 17,
   "metadata": {},
   "outputs": [
    {
     "data": {
      "text/plain": [
       "(11925, 1)"
      ]
     },
     "execution_count": 17,
     "metadata": {},
     "output_type": "execute_result"
    }
   ],
   "source": [
    "type(y_train)\n",
    "y_train.shape"
   ]
  },
  {
   "cell_type": "markdown",
   "metadata": {},
   "source": [
    "## Modeling"
   ]
  },
  {
   "cell_type": "code",
   "execution_count": 32,
   "metadata": {},
   "outputs": [
    {
     "name": "stdout",
     "output_type": "stream",
     "text": [
      "Training loss :  0.34193550539367834\n",
      "Validation loss :  0.43192105301030237\n",
      "Test loss :  0.44936967781324955\n",
      "Train accuracy 0.847603, precision 0.809408, recall 0.571245, f1 0.669641 \n",
      "Valid accuracy 0.805032, precision 0.706707, recall 0.478604, f1 0.570592 \n",
      "Test  accuracy 0.799751, precision 0.710162, recall 0.453606, f1 0.553425 \n"
     ]
    }
   ],
   "source": [
    "torch.manual_seed(SEED)\n",
    "nfold = 7\n",
    "skf = StratifiedKFold(n_splits = nfold, shuffle=True, random_state = SEED)\n",
    "\n",
    "train_loss, val_loss, test_loss = [], [],[]\n",
    "train_accu, val_accu, test_accu = [], [], []\n",
    "train_prec, val_prec, test_prec = [], [], []\n",
    "train_recall, val_recall, test_recall = [], [], []\n",
    "train_f1, val_f1, test_f1 = [], [], []\n",
    "for train_index, val_index in skf.split(X_train, y_train):\n",
    "    train, val = X_train.iloc[train_index], X_train.iloc[val_index]\n",
    "    train_targets, val_targets = y_train.iloc[train_index], y_train.iloc[val_index]\n",
    "    \n",
    "    params_net = {'input_size': train.shape[1],\n",
    "                  'hidden_size':[512, 256],\n",
    "                  'output_size':1,\n",
    "                  'dropout':[0, 0.2, 0.2]}\n",
    "    params_fit = {'X_train':train, 'y_train':train_targets,\n",
    "                 'X_val':val, 'y_val': val_targets,\n",
    "                 'epoch': 40,\n",
    "                  'batch_size':128,\n",
    "                 'lr': 1e-3,\n",
    "                 'weight_decay':2e-5}\n",
    "    net = DenseNet(**params_net)\n",
    "    model = Model(net)\n",
    "    model.fit(**params_fit)\n",
    "    \n",
    "    train_pred_proba = model.predict_proba(train)\n",
    "    val_pred_proba = model.predict_proba(val)\n",
    "    test_pred_proba = model.predict_proba(X_test)\n",
    "    # neg log loss\n",
    "    train_loss.append(log_loss(train_targets, train_pred_proba))\n",
    "    val_loss.append(log_loss(val_targets, val_pred_proba))\n",
    "    test_loss.append(log_loss(y_test, test_pred_proba))\n",
    "    \n",
    "    train_pred = model.predict(train)\n",
    "    val_pred = model.predict(val)\n",
    "    test_pred = model.predict(X_test)\n",
    "    # accuracy\n",
    "    train_accu.append(accuracy_score(train_targets, train_pred))\n",
    "    val_accu.append(accuracy_score(val_targets, val_pred))\n",
    "    test_accu.append(accuracy_score(y_test, test_pred))\n",
    "    # precision\n",
    "    train_prec.append(precision_score(train_targets, train_pred))\n",
    "    val_prec.append(precision_score(val_targets, val_pred))\n",
    "    test_prec.append(precision_score(y_test, test_pred))\n",
    "    # recall\n",
    "    train_recall.append(recall_score(train_targets, train_pred))\n",
    "    val_recall.append(recall_score(val_targets, val_pred))\n",
    "    test_recall.append(recall_score(y_test, test_pred))\n",
    "    # f1 score\n",
    "    train_f1.append(f1_score(train_targets, train_pred))\n",
    "    val_f1.append(f1_score(val_targets, val_pred))\n",
    "    test_f1.append(f1_score(y_test, test_pred))\n",
    "    \n",
    "\n",
    "print('Training loss : ', np.average(np.array(train_loss)))\n",
    "print('Validation loss : ', np.average(np.array(val_loss)))\n",
    "print('Test loss : ', np.average(np.array(test_loss)))\n",
    "\n",
    "train_accu_avg = np.average(np.array(train_accu))\n",
    "train_prec_avg = np.average(np.array(train_prec))\n",
    "train_recall_avg = np.average(np.array(train_recall))\n",
    "train_f1_avg = np.average(np.array(train_f1))\n",
    "print('Train accuracy {:5f}, precision {:5f}, recall {:5f}, f1 {:5f} '.format(train_accu_avg, train_prec_avg, train_recall_avg, train_f1_avg))\n",
    "\n",
    "val_accu_avg = np.average(np.array(val_accu))\n",
    "val_prec_avg = np.average(np.array(val_prec))\n",
    "val_recall_avg = np.average(np.array(val_recall))\n",
    "val_f1_avg = np.average(np.array(val_f1))\n",
    "print('Valid accuracy {:5f}, precision {:5f}, recall {:5f}, f1 {:5f} '.format(val_accu_avg, val_prec_avg, val_recall_avg, val_f1_avg))\n",
    "\n",
    "test_accu_avg = np.average(np.array(test_accu))\n",
    "test_prec_avg = np.average(np.array(test_prec))\n",
    "test_recall_avg = np.average(np.array(test_recall))\n",
    "test_f1_avg = np.average(np.array(test_f1))\n",
    "print('Test  accuracy {:5f}, precision {:5f}, recall {:5f}, f1 {:5f} '.format(test_accu_avg, test_prec_avg, test_recall_avg, test_f1_avg))"
   ]
  },
  {
   "cell_type": "code",
   "execution_count": null,
   "metadata": {},
   "outputs": [],
   "source": []
  }
 ],
 "metadata": {
  "kernelspec": {
   "display_name": "Python 3",
   "language": "python",
   "name": "python3"
  },
  "language_info": {
   "codemirror_mode": {
    "name": "ipython",
    "version": 3
   },
   "file_extension": ".py",
   "mimetype": "text/x-python",
   "name": "python",
   "nbconvert_exporter": "python",
   "pygments_lexer": "ipython3",
   "version": "3.7.3"
  }
 },
 "nbformat": 4,
 "nbformat_minor": 4
}
